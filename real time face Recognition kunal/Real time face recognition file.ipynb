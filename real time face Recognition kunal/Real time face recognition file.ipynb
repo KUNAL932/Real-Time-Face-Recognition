{
 "cells": [
  {
   "cell_type": "code",
   "execution_count": 1,
   "metadata": {},
   "outputs": [],
   "source": [
    "import cv2\n",
    "import face_recognition"
   ]
  },
  {
   "cell_type": "code",
   "execution_count": 4,
   "metadata": {},
   "outputs": [],
   "source": [
    "video_capture = cv2.VideoCapture(0)\n",
    "#importing my own image\n",
    "kunal_image = cv2.imread('data/kunal.jpg')\n",
    "kunal_face_encodings = face_recognition.face_encodings(kunal_image)[0]\n",
    "\n",
    "modi_image = cv2.imread('data/Modi.jpg')\n",
    "modi_face_encodings = face_recognition.face_encodings(modi_image)[0]\n",
    "#array of encodings\n",
    "known_face_encodings = [modi_face_encodings , kunal_face_encodings]\n",
    "#array of names the faces belong to\n",
    "known_face_name = [\"Narendra Modi\",\"Kunal Kashyap\"]\n",
    "\n",
    "# initialising some list variables\n",
    "face_locations = []\n",
    "face_names = []\n",
    "face_encodings = []\n",
    "process_this_frame = True\n",
    "\n",
    "while True:\n",
    "    ret ,frame = video_capture.read()\n",
    "    #resizing the frame for faster face recognition\n",
    "    small_frame = cv2.resize(frame ,(0,0),fx = 0.25,fy = 0.25)\n",
    "    rgb_small_frame = small_frame[:,:,::-1]\n",
    "    \n",
    "    if process_this_frame:\n",
    "        face_locations = face_recognition.face_locations(rgb_small_frame)\n",
    "        face_encodings = face_recognition.face_encodings(rgb_small_frame,face_locations)\n",
    "        face_names = []\n",
    "        for face_encoding in face_encodings:\n",
    "            matches = face_recognition.compare_faces(known_face_encodings,face_encoding)\n",
    "            name = \"unknown\"\n",
    "            if True in matches:\n",
    "                first_match_index = matches.index(True)\n",
    "                name = known_face_name[first_match_index]\n",
    "            face_names.append(name)\n",
    "    process_this_frame = not process_this_frame\n",
    "    #displaying the results\n",
    "    for (top,right,bottom,left),name in zip(face_locations,face_names):\n",
    "#         top *= 4\n",
    "#         right *= 4\n",
    "#         bottom *= 4\n",
    "#         left *= 4\n",
    "        #drawing the box around the image\n",
    "        cv2.rectangle(frame, (left, top), (right, bottom), (0, 0, 255), 2)\n",
    "\n",
    "        #draw a label and name below \n",
    "        cv2.rectangle(frame, (left, bottom - 35), (right, bottom), (0, 0, 255), cv2.FILLED)\n",
    "        cv2.putText(frame,name,(top,right),cv2.FONT_HERSHEY_DUPLEX,1.5,(255,255,255),1)\n",
    "    cv2.imshow('Video',frame)\n",
    "    \n",
    "    #to quit press q\n",
    "    if cv2.waitKey(1) & 0xFF == ord('q'):\n",
    "        break\n",
    "video_capture.release()\n",
    "cv2.destroyAllWindows()\n",
    "        "
   ]
  },
  {
   "cell_type": "code",
   "execution_count": null,
   "metadata": {},
   "outputs": [],
   "source": []
  }
 ],
 "metadata": {
  "kernelspec": {
   "display_name": "Python 3",
   "language": "python",
   "name": "python3"
  },
  "language_info": {
   "codemirror_mode": {
    "name": "ipython",
    "version": 3
   },
   "file_extension": ".py",
   "mimetype": "text/x-python",
   "name": "python",
   "nbconvert_exporter": "python",
   "pygments_lexer": "ipython3",
   "version": "3.7.1"
  }
 },
 "nbformat": 4,
 "nbformat_minor": 2
}
